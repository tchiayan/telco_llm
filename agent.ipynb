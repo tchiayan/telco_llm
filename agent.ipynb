{
 "cells": [
  {
   "cell_type": "code",
   "execution_count": 1,
   "metadata": {},
   "outputs": [],
   "source": [
    "from langchain_core.documents import Document \n",
    "from langchain_community.embeddings import OllamaEmbeddings \n",
    "from langchain_chroma import Chroma\n",
    "from langchain_community.chat_models import ChatOllama\n",
    "from langchain_openai import ChatOpenAI\n",
    "from langchain_core.prompts import ChatPromptTemplate , MessagesPlaceholder\n",
    "from langchain_core.output_parsers import StrOutputParser\n",
    "from langchain_core.runnables import RunnablePassthrough \n",
    "from langchain_core.tools import tool , create_retriever_tool\n",
    "from langchain_experimental.llms.ollama_functions import OllamaFunctions\n",
    "from langchain.agents import create_tool_calling_agent , AgentExecutor\n",
    "from langchain_core.messages import HumanMessage\n",
    "from langchain_core.runnables.history import RunnableWithMessageHistory\n",
    "from langchain_core.chat_history import BaseChatMessageHistory\n",
    "from langchain_community.chat_message_histories import ChatMessageHistory\n",
    "from pprint import pprint\n",
    "import random"
   ]
  },
  {
   "cell_type": "code",
   "execution_count": 2,
   "metadata": {},
   "outputs": [],
   "source": [
    "# Create documents\n",
    "documents = [\n",
    "    Document(\n",
    "        page_content=\"Dogs are great companions, known for their loyalty and friendliness.\",\n",
    "        metadata={\"source\": \"mammal-pets-doc\"},\n",
    "    ),\n",
    "    Document(\n",
    "        page_content=\"Cats are independent pets that often enjoy their own space.\",\n",
    "        metadata={\"source\": \"mammal-pets-doc\"},\n",
    "    ),\n",
    "    Document(\n",
    "        page_content=\"Goldfish are popular pets for beginners, requiring relatively simple care.\",\n",
    "        metadata={\"source\": \"fish-pets-doc\"},\n",
    "    ),\n",
    "    Document(\n",
    "        page_content=\"Parrots are intelligent birds capable of mimicking human speech.\",\n",
    "        metadata={\"source\": \"bird-pets-doc\"},\n",
    "    ),\n",
    "    Document(\n",
    "        page_content=\"Rabbits are social animals that need plenty of space to hop around.\",\n",
    "        metadata={\"source\": \"mammal-pets-doc\"},\n",
    "    ),\n",
    "]"
   ]
  },
  {
   "cell_type": "code",
   "execution_count": 3,
   "metadata": {},
   "outputs": [
    {
     "name": "stdout",
     "output_type": "stream",
     "text": [
      "name='multiply' description='Multiply two numbers. When user ask about multiply two number, must use this function' args_schema=<class 'pydantic.v1.main.multiplySchema'> func=<function multiply at 0x7fcfdff74b80>\n"
     ]
    }
   ],
   "source": [
    "# Build vector store and retriever\n",
    "vector_store = Chroma.from_documents(\n",
    "    documents=documents,\n",
    "    embedding=OllamaEmbeddings(model=\"llama3\")\n",
    ")\n",
    "retriever = vector_store.as_retriever(\n",
    "    search_type=\"similarity\", \n",
    "    search_kwargs={\"k\": 1}\n",
    ")\n",
    "\n",
    "rag_search = create_retriever_tool(\n",
    "    retriever=retriever , \n",
    "    name=\"retrieve_animal_information\" , \n",
    "    description=\"Search information about animal. For any question about animal, you must use this tool!\"\n",
    ")\n",
    "\n",
    "@tool \n",
    "def multiply(a: int , b:int):\n",
    "    \"\"\"Multiply two numbers. When user ask about multiply two number, must use this function\"\"\"\n",
    "    return a*b\n",
    "print(multiply)\n",
    "\n",
    "@tool \n",
    "def get_weather_temperature(location:str):\n",
    "    \"\"\"Get the current weather temperature in celcius\"\"\"\n",
    "    return 19\n",
    "\n",
    "@tool\n",
    "def possible_area_where_cat_is_hiding() -> str:\n",
    "    \"\"\"Search for possible area where cat might be hiding\"\"\"\n",
    "    return random.choice([\"under the bed\", \"on the shelf\" , \"under table\"])\n",
    "\n",
    "\n",
    "@tool\n",
    "def find_cat(place: str) -> str:\n",
    "    \"\"\"Use this tool to look up is the cat visible at that place\"\"\"\n",
    "    if \"bed\" in place:  # For under the bed\n",
    "        return \"Cat not found\"\n",
    "    if \"table\" in place:  # For 'shelf'\n",
    "        return \"Found the cat\"\n",
    "    else:  # if the agent decides to ask about a different place\n",
    "        return \"Cat not found\"\n",
    "\n",
    "tools = [ rag_search , multiply , get_weather_temperature , possible_area_where_cat_is_hiding , find_cat]"
   ]
  },
  {
   "cell_type": "code",
   "execution_count": 4,
   "metadata": {},
   "outputs": [],
   "source": [
    "# LLM model using open ai\n",
    "llm = ChatOpenAI(\n",
    "    model='gpt-3.5-turbo',\n",
    "    api_key=\"API_KEY\",\n",
    "    #base_url=\"http://localhost:11434/v1\"\n",
    ") #.with_config({\"tags\": [\"agent_llm\"]})"
   ]
  },
  {
   "cell_type": "code",
   "execution_count": 5,
   "metadata": {},
   "outputs": [],
   "source": [
    "prompt = ChatPromptTemplate.from_messages([\n",
    "    (\"ai\", \"you are helpfull assistance\"),\n",
    "    # MessagesPlaceholder(\"chat_history\"),\n",
    "    (\"user\" , \"{input}\") ,\n",
    "    MessagesPlaceholder(\"agent_scratchpad\")\n",
    "])"
   ]
  },
  {
   "cell_type": "code",
   "execution_count": 8,
   "metadata": {},
   "outputs": [],
   "source": [
    "agent = create_tool_calling_agent(llm , tools ,  prompt )\n",
    "agent_exec = AgentExecutor(agent=agent , tools=tools, verbose=True) #.with_config({\"run_name\": \"Agent\"})"
   ]
  },
  {
   "cell_type": "code",
   "execution_count": 9,
   "metadata": {},
   "outputs": [
    {
     "data": {
      "text/plain": [
       "RunnableAssign(mapper={\n",
       "  agent_scratchpad: RunnableLambda(lambda x: message_formatter(x['intermediate_steps']))\n",
       "})\n",
       "| ChatPromptTemplate(input_variables=['agent_scratchpad', 'input'], input_types={'agent_scratchpad': typing.List[typing.Union[langchain_core.messages.ai.AIMessage, langchain_core.messages.human.HumanMessage, langchain_core.messages.chat.ChatMessage, langchain_core.messages.system.SystemMessage, langchain_core.messages.function.FunctionMessage, langchain_core.messages.tool.ToolMessage]]}, messages=[AIMessagePromptTemplate(prompt=PromptTemplate(input_variables=[], template='you are helpfull assistance')), HumanMessagePromptTemplate(prompt=PromptTemplate(input_variables=['input'], template='{input}')), MessagesPlaceholder(variable_name='agent_scratchpad')])\n",
       "| RunnableBinding(bound=ChatOpenAI(client=<openai.resources.chat.completions.Completions object at 0x7fcfdff40290>, async_client=<openai.resources.chat.completions.AsyncCompletions object at 0x7fcfdffb3190>, openai_api_key=SecretStr('**********'), openai_proxy=''), kwargs={'tools': [{'type': 'function', 'function': {'name': 'retrieve_animal_information', 'description': 'Search information about animal. For any question about animal, you must use this tool!', 'parameters': {'type': 'object', 'properties': {'query': {'description': 'query to look up in retriever', 'type': 'string'}}, 'required': ['query']}}}, {'type': 'function', 'function': {'name': 'multiply', 'description': 'Multiply two numbers. When user ask about multiply two number, must use this function', 'parameters': {'type': 'object', 'properties': {'a': {'type': 'integer'}, 'b': {'type': 'integer'}}, 'required': ['a', 'b']}}}, {'type': 'function', 'function': {'name': 'get_weather_temperature', 'description': 'Get the current weather temperature in celcius', 'parameters': {'type': 'object', 'properties': {'location': {'type': 'string'}}, 'required': ['location']}}}, {'type': 'function', 'function': {'name': 'possible_area_where_cat_is_hiding', 'description': 'Search for possible area where cat might be hiding', 'parameters': {'type': 'object', 'properties': {}}}}, {'type': 'function', 'function': {'name': 'find_cat', 'description': 'Use this tool to look up is the cat visible at that place', 'parameters': {'type': 'object', 'properties': {'place': {'type': 'string'}}, 'required': ['place']}}}]})\n",
       "| ToolsAgentOutputParser()"
      ]
     },
     "execution_count": 9,
     "metadata": {},
     "output_type": "execute_result"
    }
   ],
   "source": [
    "agent"
   ]
  },
  {
   "cell_type": "code",
   "execution_count": 10,
   "metadata": {},
   "outputs": [],
   "source": [
    "# get history function \n",
    "store = {}\n",
    "def get_history(session_id:str) -> BaseChatMessageHistory: \n",
    "    if session_id not in store:\n",
    "        store[session_id] = ChatMessageHistory()\n",
    "    \n",
    "    return store[session_id]\n",
    "\n",
    "agent_exec_with_message_history = RunnableWithMessageHistory(\n",
    "    runnable=agent_exec, \n",
    "    get_session_history=get_history , \n",
    "    input_messages_key='input', \n",
    "    history_messages_key='chat_history' ,\n",
    ")\n"
   ]
  },
  {
   "cell_type": "code",
   "execution_count": 12,
   "metadata": {},
   "outputs": [
    {
     "data": {
      "text/plain": [
       "RunnableWithMessageHistory(bound=RunnableBinding(bound=RunnableBinding(bound=RunnableAssign(mapper={\n",
       "  chat_history: RunnableBinding(bound=RunnableLambda(_enter_history), config={'run_name': 'load_history'})\n",
       "}), config={'run_name': 'insert_history'})\n",
       "| RunnableBranch(branches=[(RunnableBinding(bound=RunnableLambda(_is_not_async), config={'run_name': 'RunnableWithMessageHistoryInAsyncMode'}), RunnableBinding(bound=AgentExecutor(verbose=True, agent=RunnableMultiActionAgent(runnable=RunnableAssign(mapper={\n",
       "    agent_scratchpad: RunnableLambda(lambda x: message_formatter(x['intermediate_steps']))\n",
       "  })\n",
       "  | ChatPromptTemplate(input_variables=['agent_scratchpad', 'input'], input_types={'agent_scratchpad': typing.List[typing.Union[langchain_core.messages.ai.AIMessage, langchain_core.messages.human.HumanMessage, langchain_core.messages.chat.ChatMessage, langchain_core.messages.system.SystemMessage, langchain_core.messages.function.FunctionMessage, langchain_core.messages.tool.ToolMessage]]}, messages=[AIMessagePromptTemplate(prompt=PromptTemplate(input_variables=[], template='you are helpfull assistance')), HumanMessagePromptTemplate(prompt=PromptTemplate(input_variables=['input'], template='{input}')), MessagesPlaceholder(variable_name='agent_scratchpad')])\n",
       "  | RunnableBinding(bound=ChatOpenAI(client=<openai.resources.chat.completions.Completions object at 0x7fcfdff40290>, async_client=<openai.resources.chat.completions.AsyncCompletions object at 0x7fcfdffb3190>, openai_api_key=SecretStr('**********'), openai_proxy=''), kwargs={'tools': [{'type': 'function', 'function': {'name': 'retrieve_animal_information', 'description': 'Search information about animal. For any question about animal, you must use this tool!', 'parameters': {'type': 'object', 'properties': {'query': {'description': 'query to look up in retriever', 'type': 'string'}}, 'required': ['query']}}}, {'type': 'function', 'function': {'name': 'multiply', 'description': 'Multiply two numbers. When user ask about multiply two number, must use this function', 'parameters': {'type': 'object', 'properties': {'a': {'type': 'integer'}, 'b': {'type': 'integer'}}, 'required': ['a', 'b']}}}, {'type': 'function', 'function': {'name': 'get_weather_temperature', 'description': 'Get the current weather temperature in celcius', 'parameters': {'type': 'object', 'properties': {'location': {'type': 'string'}}, 'required': ['location']}}}, {'type': 'function', 'function': {'name': 'possible_area_where_cat_is_hiding', 'description': 'Search for possible area where cat might be hiding', 'parameters': {'type': 'object', 'properties': {}}}}, {'type': 'function', 'function': {'name': 'find_cat', 'description': 'Use this tool to look up is the cat visible at that place', 'parameters': {'type': 'object', 'properties': {'place': {'type': 'string'}}, 'required': ['place']}}}]})\n",
       "  | ToolsAgentOutputParser(), input_keys_arg=[], return_keys_arg=[], stream_runnable=True), tools=[Tool(name='retrieve_animal_information', description='Search information about animal. For any question about animal, you must use this tool!', args_schema=<class 'langchain_core.tools.RetrieverInput'>, func=functools.partial(<function _get_relevant_documents at 0x7fcfe0b07ba0>, retriever=VectorStoreRetriever(tags=['Chroma', 'OllamaEmbeddings'], vectorstore=<langchain_chroma.vectorstores.Chroma object at 0x7fcfe0138910>, search_kwargs={'k': 1}), document_prompt=PromptTemplate(input_variables=['page_content'], template='{page_content}'), document_separator='\\n\\n'), coroutine=functools.partial(<function _aget_relevant_documents at 0x7fcfe0b07ce0>, retriever=VectorStoreRetriever(tags=['Chroma', 'OllamaEmbeddings'], vectorstore=<langchain_chroma.vectorstores.Chroma object at 0x7fcfe0138910>, search_kwargs={'k': 1}), document_prompt=PromptTemplate(input_variables=['page_content'], template='{page_content}'), document_separator='\\n\\n')), StructuredTool(name='multiply', description='Multiply two numbers. When user ask about multiply two number, must use this function', args_schema=<class 'pydantic.v1.main.multiplySchema'>, func=<function multiply at 0x7fcfdff74b80>), StructuredTool(name='get_weather_temperature', description='Get the current weather temperature in celcius', args_schema=<class 'pydantic.v1.main.get_weather_temperatureSchema'>, func=<function get_weather_temperature at 0x7fcfdff75440>), StructuredTool(name='possible_area_where_cat_is_hiding', description='Search for possible area where cat might be hiding', args_schema=<class 'pydantic.v1.main.possible_area_where_cat_is_hidingSchema'>, func=<function possible_area_where_cat_is_hiding at 0x7fcfdff74ea0>), StructuredTool(name='find_cat', description='Use this tool to look up is the cat visible at that place', args_schema=<class 'pydantic.v1.main.find_catSchema'>, func=<function find_cat at 0x7fcfdff759e0>)]), config_factories=[<function Runnable.with_alisteners.<locals>.<lambda> at 0x7fd02966aca0>]))], default=RunnableBinding(bound=AgentExecutor(verbose=True, agent=RunnableMultiActionAgent(runnable=RunnableAssign(mapper={\n",
       "    agent_scratchpad: RunnableLambda(lambda x: message_formatter(x['intermediate_steps']))\n",
       "  })\n",
       "  | ChatPromptTemplate(input_variables=['agent_scratchpad', 'input'], input_types={'agent_scratchpad': typing.List[typing.Union[langchain_core.messages.ai.AIMessage, langchain_core.messages.human.HumanMessage, langchain_core.messages.chat.ChatMessage, langchain_core.messages.system.SystemMessage, langchain_core.messages.function.FunctionMessage, langchain_core.messages.tool.ToolMessage]]}, messages=[AIMessagePromptTemplate(prompt=PromptTemplate(input_variables=[], template='you are helpfull assistance')), HumanMessagePromptTemplate(prompt=PromptTemplate(input_variables=['input'], template='{input}')), MessagesPlaceholder(variable_name='agent_scratchpad')])\n",
       "  | RunnableBinding(bound=ChatOpenAI(client=<openai.resources.chat.completions.Completions object at 0x7fcfdff40290>, async_client=<openai.resources.chat.completions.AsyncCompletions object at 0x7fcfdffb3190>, openai_api_key=SecretStr('**********'), openai_proxy=''), kwargs={'tools': [{'type': 'function', 'function': {'name': 'retrieve_animal_information', 'description': 'Search information about animal. For any question about animal, you must use this tool!', 'parameters': {'type': 'object', 'properties': {'query': {'description': 'query to look up in retriever', 'type': 'string'}}, 'required': ['query']}}}, {'type': 'function', 'function': {'name': 'multiply', 'description': 'Multiply two numbers. When user ask about multiply two number, must use this function', 'parameters': {'type': 'object', 'properties': {'a': {'type': 'integer'}, 'b': {'type': 'integer'}}, 'required': ['a', 'b']}}}, {'type': 'function', 'function': {'name': 'get_weather_temperature', 'description': 'Get the current weather temperature in celcius', 'parameters': {'type': 'object', 'properties': {'location': {'type': 'string'}}, 'required': ['location']}}}, {'type': 'function', 'function': {'name': 'possible_area_where_cat_is_hiding', 'description': 'Search for possible area where cat might be hiding', 'parameters': {'type': 'object', 'properties': {}}}}, {'type': 'function', 'function': {'name': 'find_cat', 'description': 'Use this tool to look up is the cat visible at that place', 'parameters': {'type': 'object', 'properties': {'place': {'type': 'string'}}, 'required': ['place']}}}]})\n",
       "  | ToolsAgentOutputParser(), input_keys_arg=[], return_keys_arg=[], stream_runnable=True), tools=[Tool(name='retrieve_animal_information', description='Search information about animal. For any question about animal, you must use this tool!', args_schema=<class 'langchain_core.tools.RetrieverInput'>, func=functools.partial(<function _get_relevant_documents at 0x7fcfe0b07ba0>, retriever=VectorStoreRetriever(tags=['Chroma', 'OllamaEmbeddings'], vectorstore=<langchain_chroma.vectorstores.Chroma object at 0x7fcfe0138910>, search_kwargs={'k': 1}), document_prompt=PromptTemplate(input_variables=['page_content'], template='{page_content}'), document_separator='\\n\\n'), coroutine=functools.partial(<function _aget_relevant_documents at 0x7fcfe0b07ce0>, retriever=VectorStoreRetriever(tags=['Chroma', 'OllamaEmbeddings'], vectorstore=<langchain_chroma.vectorstores.Chroma object at 0x7fcfe0138910>, search_kwargs={'k': 1}), document_prompt=PromptTemplate(input_variables=['page_content'], template='{page_content}'), document_separator='\\n\\n')), StructuredTool(name='multiply', description='Multiply two numbers. When user ask about multiply two number, must use this function', args_schema=<class 'pydantic.v1.main.multiplySchema'>, func=<function multiply at 0x7fcfdff74b80>), StructuredTool(name='get_weather_temperature', description='Get the current weather temperature in celcius', args_schema=<class 'pydantic.v1.main.get_weather_temperatureSchema'>, func=<function get_weather_temperature at 0x7fcfdff75440>), StructuredTool(name='possible_area_where_cat_is_hiding', description='Search for possible area where cat might be hiding', args_schema=<class 'pydantic.v1.main.possible_area_where_cat_is_hidingSchema'>, func=<function possible_area_where_cat_is_hiding at 0x7fcfdff74ea0>), StructuredTool(name='find_cat', description='Use this tool to look up is the cat visible at that place', args_schema=<class 'pydantic.v1.main.find_catSchema'>, func=<function find_cat at 0x7fcfdff759e0>)]), config_factories=[<function Runnable.with_listeners.<locals>.<lambda> at 0x7fcfe031c360>])), config={'run_name': 'RunnableWithMessageHistory'}), get_session_history=<function get_history at 0x7fcfdf314cc0>, input_messages_key='input', history_messages_key='chat_history', history_factory_config=[ConfigurableFieldSpec(id='session_id', annotation=<class 'str'>, name='Session ID', description='Unique identifier for a session.', default='', is_shared=True, dependencies=None)])"
      ]
     },
     "execution_count": 12,
     "metadata": {},
     "output_type": "execute_result"
    }
   ],
   "source": [
    "agent_exec_with_message_history "
   ]
  },
  {
   "cell_type": "code",
   "execution_count": 11,
   "metadata": {},
   "outputs": [
    {
     "name": "stdout",
     "output_type": "stream",
     "text": [
      "\n",
      "\n",
      "\u001b[1m> Entering new AgentExecutor chain...\u001b[0m\n",
      "Calling Tool: `possible_area_where_cat_is_hiding` with input `{}`\n",
      "---\n",
      "\u001b[32;1m\u001b[1;3m\n",
      "Invoking: `possible_area_where_cat_is_hiding` with `{}`\n",
      "\n",
      "\n",
      "\u001b[0m\u001b[36;1m\u001b[1;3munder table\u001b[0mTool Result: `under table`\n",
      "---\n",
      "Calling Tool: `find_cat` with input `{'place': 'under table'}`\n",
      "---\n",
      "\u001b[32;1m\u001b[1;3m\n",
      "Invoking: `find_cat` with `{'place': 'under table'}`\n",
      "\n",
      "\n",
      "\u001b[0m\u001b[33;1m\u001b[1;3mFound the cat\u001b[0mTool Result: `Found the cat`\n",
      "---\n",
      "\u001b[32;1m\u001b[1;3mI found the cat under the table!\u001b[0m\n",
      "\n",
      "\u001b[1m> Finished chain.\u001b[0m\n",
      "Final Output: I found the cat under the table!\n",
      "---\n"
     ]
    }
   ],
   "source": [
    "chunks = []\n",
    "\n",
    "for chunk in agent_exec_with_message_history.stream(\n",
    "        {\"input\":\"My cat is missing, please help me to find my cat until it found. Possible are is under the bed and under the table\"} , {\"configurable\": {\"session_id\": \"session_abc\"}}\n",
    "    ):\n",
    "    # chunks.append(chunk)\n",
    "    # print(\"---------\")\n",
    "    # pprint(chunk , depth=1)\n",
    "    #pprint(chunk , depth=1)\n",
    "    # Agent Action\n",
    "    if \"actions\" in chunk:\n",
    "        for action in chunk[\"actions\"]:\n",
    "            print(f\"Calling Tool: `{action.tool}` with input `{action.tool_input}`\")\n",
    "    # Observation\n",
    "    elif \"steps\" in chunk:\n",
    "        for step in chunk[\"steps\"]:\n",
    "            print(f\"Tool Result: `{step.observation}`\")\n",
    "    # Final result\n",
    "    elif \"output\" in chunk:\n",
    "        print(f'Final Output: {chunk[\"output\"]}')\n",
    "    else:\n",
    "        raise ValueError()\n",
    "    print(\"---\")"
   ]
  },
  {
   "cell_type": "code",
   "execution_count": 40,
   "metadata": {},
   "outputs": [
    {
     "data": {
      "text/plain": [
       "[ToolAgentAction(tool='get_items', tool_input={'place': 'shelf'}, log=\"\\nInvoking: `get_items` with `{'place': 'shelf'}`\\n\\n\\n\", message_log=[AIMessageChunk(content='', additional_kwargs={'tool_calls': [{'index': 0, 'id': 'call_Cnm6Hh9YPavgfJNVIEjyp00t', 'function': {'arguments': '{\"place\":\"shelf\"}', 'name': 'get_items'}, 'type': 'function'}]}, response_metadata={'finish_reason': 'tool_calls', 'model_name': 'gpt-3.5-turbo-0125'}, id='run-c0f2f50d-6776-4494-9522-ef8cd1d50024', tool_calls=[{'name': 'get_items', 'args': {'place': 'shelf'}, 'id': 'call_Cnm6Hh9YPavgfJNVIEjyp00t', 'type': 'tool_call'}], tool_call_chunks=[{'name': 'get_items', 'args': '{\"place\":\"shelf\"}', 'id': 'call_Cnm6Hh9YPavgfJNVIEjyp00t', 'index': 0, 'type': 'tool_call_chunk'}])], tool_call_id='call_Cnm6Hh9YPavgfJNVIEjyp00t')]"
      ]
     },
     "execution_count": 40,
     "metadata": {},
     "output_type": "execute_result"
    }
   ],
   "source": [
    "chunks[2]['actions']"
   ]
  },
  {
   "cell_type": "code",
   "execution_count": null,
   "metadata": {},
   "outputs": [],
   "source": []
  }
 ],
 "metadata": {
  "kernelspec": {
   "display_name": "langchain",
   "language": "python",
   "name": "python3"
  },
  "language_info": {
   "codemirror_mode": {
    "name": "ipython",
    "version": 3
   },
   "file_extension": ".py",
   "mimetype": "text/x-python",
   "name": "python",
   "nbconvert_exporter": "python",
   "pygments_lexer": "ipython3",
   "version": "3.11.9"
  }
 },
 "nbformat": 4,
 "nbformat_minor": 2
}
