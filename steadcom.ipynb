{
 "cells": [
  {
   "cell_type": "code",
   "execution_count": null,
   "metadata": {},
   "outputs": [],
   "source": [
    "from google.cloud import bigquery\n",
    "from sqlalchemy import *\n",
    "from sqlalchemy.engine import create_engine\n",
    "from sqlalchemy.schema import *\n",
    "import os\n",
    "from langchain.agents import create_sql_agent\n",
    "from langchain.agents.agent_toolkits import SQLDatabaseToolkit\n",
    "from langchain.sql_database import SQLDatabase\n",
    "from langchain.chains import create_sql_query_chain\n",
    "from langchain_openai import ChatOpenAI\n",
    "from langchain.agents import AgentExecutor\n",
    "from langchain_community.chat_models import ChatOllama"
   ]
  },
  {
   "cell_type": "code",
   "execution_count": null,
   "metadata": {},
   "outputs": [],
   "source": [
    "# Set environment variables for Google Cloud and OpenAI\n",
    "service_account_file  = \"./credentials/google.json\"\n",
    "os.environ[\"OPENAI_API_KEY\"] = \"API_KEY\"\n",
    "\n",
    "project = 'rf-oss'\n",
    "dataset = \"dailydata\""
   ]
  },
  {
   "cell_type": "code",
   "execution_count": null,
   "metadata": {},
   "outputs": [],
   "source": [
    "# SQLAlchemy connection\n",
    "sqlalchemy_url = f'bigquery://{project}/{dataset}'\n",
    "print(sqlalchemy_url)\n",
    "\n",
    "# Create an Engine and SQLDatabaseToolkit \n",
    "db = SQLDatabase.from_uri(sqlalchemy_url , {\"credentials_path\": service_account_file})\n",
    "llm = ChatOpenAI(\n",
    "    model=\"gpt-3.5-turbo\", \n",
    "    api_key='API_KEY'\n",
    ")\n",
    "db.run()\n",
    "# llm = ChatOpenAI(\n",
    "#     model=\"gpt-4o\", \n",
    "#     api_key='API_KEY'\n",
    "# )\n",
    "# llm = ChatOllama(model=\"llama3\" , temperature=0)\n",
    "# toolkit = SQLDatabaseToolkit(db=db , llm=llm)\n",
    "# agent_exec = create_sql_agent(\n",
    "#     llm=llm , \n",
    "#     toolkit=toolkit, \n",
    "#     verbose=True, \n",
    "#     top_k=10\n",
    "# )"
   ]
  },
  {
   "cell_type": "code",
   "execution_count": null,
   "metadata": {},
   "outputs": [],
   "source": [
    "examples = [\n",
    "    {\n",
    "        \"input\": \"How is the performance 4G Volte Drop Call rate for site 1123A for past 1 weeks\", \n",
    "        \"query\": \"SELECT time , 100*sum(VOLTE_DROP_NUM)/sum(VOLTE_DROP_DENOM) `4G VoLTE Drop Call Rate` FROM `rf-oss.dailydata.mc4g_cell_combined` WHERE Date(time) >= DATE_SUB(CURRENT_DATE(), INTERVAL 7 DAY) AND ( site = '1123A' ) GROUP BY time ORDER BY time\"\n",
    "    }, \n",
    "    {\n",
    "        \"input\": \"How is the performance 2G TCH Drop rate for site 1123A for past 1 month\", \n",
    "        \"query\": \"SELECT time , 100*sum(TCH_DROP_NUM)/sum(TCH_DROP_DENOM) `2G TCH Drop Rate` FROM `rf-oss.dailydata.mc2g_cell_combined` WHERE Date(time) >= DATE_SUB(CURRENT_DATE(), INTERVAL 30 DAY) AND ( site = '1123A' ) GROUP BY time ORDER BY time\"\n",
    "    }, \n",
    "    {\n",
    "        \"input\": \"How much total 4G data download traffic for the site 1011A for past 2 week\", \n",
    "        \"query\": \"SELECT sum(LTE_DATA_TRAFFIC_GB) `4G Data Download Traffic` FROM `rf-oss.dailydata.mc4g_cell_combined` WHERE Date(time) >= DATE_SUB(CURRENT_DATE(), INTERVAL 14 DAY) AND ( site = '1011A' )\"\n",
    "    }, \n",
    "    {\n",
    "        \"input\": \"Which cell is having the worst performance 4G RRC setup success rate for 1011A in last 3 days\", \n",
    "        \"query\": \"SELECT object `Cell` , 100*sum(RRC_SETUP_NUM)/sum(RRC_SETUP_DENOM) `RRC Setup Success Rate` FROM `rf-oss.dailydata.mc4g_cell_combined` WHERE Date(time) >= DATE_SUB(CURRENT_DATE(), INTERVAL 3 DAY) AND ( site = '1011A' ) GROUP BY object ORDER BY `RRC Setup Success Rate` LIMIT 1;\"\n",
    "    }\n",
    "]"
   ]
  },
  {
   "cell_type": "code",
   "execution_count": null,
   "metadata": {},
   "outputs": [],
   "source": [
    "from langchain_core.prompts import FewShotPromptTemplate , PromptTemplate\n",
    "\n",
    "prompt_template = \"\"\" \n",
    "You are a SQLite expert with Telecommunication RF Domain Expert. Given an input question, create a syntactically correct SQLite query to run. Generate the SQL in single line. \\\n",
    "You must know which technology context user is asking, either 4G (LTE) or 2G (GSM). If user didn't provide the context, don't run generate SQL and run SQL.\n",
    "Unless otherwise specificed, do not return more than {top_k} rows.\\n\\n \\\n",
    "Here is the relevant table info: {table_info}\\n\\n \\\n",
    "\n",
    "Below are a number of examples of questions and their corresponding SQL queries.\n",
    "\"\"\"\n",
    "example_prompt = PromptTemplate.from_template(\"User input: {input}\\nSQL query: {query}\")\n",
    "prompt = FewShotPromptTemplate(\n",
    "    examples=examples[:5], \n",
    "    example_prompt=example_prompt, \n",
    "    prefix=prompt_template , \n",
    "    suffix=\"User input: {input}\\nSQL query: \", \n",
    "    input_variables=[\"input\" , \"top_k\" , \"table_info\"]\n",
    ")"
   ]
  },
  {
   "cell_type": "code",
   "execution_count": null,
   "metadata": {},
   "outputs": [],
   "source": [
    "print(prompt.format(input=\"How is the performance 4G CSSR for past 7 days for site 1011A?\" , top_k=3 , table_info=\"mc4g_cell_combined\"))"
   ]
  },
  {
   "cell_type": "code",
   "execution_count": null,
   "metadata": {},
   "outputs": [],
   "source": [
    "from langchain.globals import set_debug , set_verbose\n",
    "set_verbose(False)\n",
    "set_debug(False)\n",
    "chain = create_sql_query_chain(llm , db , prompt)\n",
    "# chain.invoke({\"question\": \"How is the 4G CSSR performance for 1011A for last 14 days?\", \"table_names_to_use\":['mc4g_cell_combined']})\n",
    "chain.invoke({\"question\": \"How is the 4G Volte CSSR performance for 1011A for last 14 days?\", \"table_names_to_use\": ['mc4g_cell_combined' , 'mc2g_cell_combined']})"
   ]
  },
  {
   "cell_type": "code",
   "execution_count": null,
   "metadata": {},
   "outputs": [],
   "source": [
    "from langchain_community.tools.sql_database.tool import QuerySQLDataBaseTool \n",
    "from langchain.output_parsers import PandasDataFrameOutputParser \n",
    "from langchain.output_parsers.json import SimpleJsonOutputParser\n",
    "\n",
    "def parse(message):\n",
    "    \"\"\"Parse output in pretty format\"\"\"\n",
    "    message = message.split(\"), (\")\n",
    "    return message\n",
    "parser = SimpleJsonOutputParser()\n",
    "execute_query = QuerySQLDataBaseTool(db=db , return_direct=True)\n",
    "full_chain = chain | execute_query | parse"
   ]
  },
  {
   "cell_type": "code",
   "execution_count": null,
   "metadata": {},
   "outputs": [],
   "source": [
    "full_chain.invoke({\"question\": \"How is the 4G CSSR performance for 1011A for last 14 days?\", \"table_names_to_use\":['mc4g_cell_combined']} )"
   ]
  },
  {
   "cell_type": "code",
   "execution_count": null,
   "metadata": {},
   "outputs": [],
   "source": [
    "full_chain.invoke({\"question\": \"How is the 2G CSSR performance for 1011A for last 3 days?\" , \"table_names_to_use\":[\"mc4g_cell_combined\" , 'mc2g_cell_combined']})"
   ]
  },
  {
   "cell_type": "code",
   "execution_count": null,
   "metadata": {},
   "outputs": [],
   "source": [
    "full_chain.invoke({\"question\": \"List me top 3 cell that have the poor 2G CSSR for 1011A for last 3 days\" , \"table_names_to_use\":[\"mc4g_cell_combined\"]})"
   ]
  },
  {
   "cell_type": "code",
   "execution_count": null,
   "metadata": {},
   "outputs": [],
   "source": [
    "full_chain.invoke({\"question\": \"What is the total voice traffic for 1101A for last 8 days\" , \"table_names_to_use\":[\"mc4g_cell_combined\"]})"
   ]
  },
  {
   "cell_type": "code",
   "execution_count": null,
   "metadata": {},
   "outputs": [],
   "source": [
    "full_chain.invoke({\"question\": \"How much is the total call drop for 1101A for past 3 days and which cell is giving the poorest result\" , \"table_names_to_use\": [\"mc4g_cell_combined\" , \"mc2g_cell_combined\"]})"
   ]
  },
  {
   "cell_type": "code",
   "execution_count": null,
   "metadata": {},
   "outputs": [],
   "source": [
    "full_chain.invoke({\"question\": \"Get me the total data traffic for 1101A for last 5 days. \" , \"table_names_to_use\":[\"mc4g_cell_combined\"]})"
   ]
  },
  {
   "cell_type": "code",
   "execution_count": null,
   "metadata": {},
   "outputs": [],
   "source": [
    "full_chain.invoke({\"question\": \"How is the volte drop call rate for 1011A for last 14 days?\" , \"table_names_to_use\":[\"mc4g_cell_combined\"]})"
   ]
  },
  {
   "cell_type": "code",
   "execution_count": 1,
   "metadata": {},
   "outputs": [],
   "source": [
    "from telco_llm.utils.common import create_telco_sql_query_chain"
   ]
  },
  {
   "cell_type": "code",
   "execution_count": 2,
   "metadata": {},
   "outputs": [
    {
     "ename": "NoInspectionAvailable",
     "evalue": "No inspection system is available for object of type <class 'str'>",
     "output_type": "error",
     "traceback": [
      "\u001b[0;31m---------------------------------------------------------------------------\u001b[0m",
      "\u001b[0;31mNoInspectionAvailable\u001b[0m                     Traceback (most recent call last)",
      "Cell \u001b[0;32mIn[2], line 1\u001b[0m\n\u001b[0;32m----> 1\u001b[0m chain \u001b[38;5;241m=\u001b[39m \u001b[43mcreate_telco_sql_query_chain\u001b[49m\u001b[43m(\u001b[49m\u001b[43m)\u001b[49m\n",
      "File \u001b[0;32m~/langchain/src/telco_llm/utils/common.py:18\u001b[0m, in \u001b[0;36mcreate_telco_sql_query_chain\u001b[0;34m()\u001b[0m\n\u001b[1;32m     16\u001b[0m \u001b[38;5;66;03m# create db\u001b[39;00m\n\u001b[1;32m     17\u001b[0m sqlalchemy_url \u001b[38;5;241m=\u001b[39m \u001b[38;5;124mf\u001b[39m\u001b[38;5;124m'\u001b[39m\u001b[38;5;124mbigquery://\u001b[39m\u001b[38;5;132;01m{\u001b[39;00mproject_id\u001b[38;5;132;01m}\u001b[39;00m\u001b[38;5;124m/\u001b[39m\u001b[38;5;132;01m{\u001b[39;00mdataset_id\u001b[38;5;132;01m}\u001b[39;00m\u001b[38;5;124m'\u001b[39m\n\u001b[0;32m---> 18\u001b[0m db \u001b[38;5;241m=\u001b[39m \u001b[43mSQLDatabase\u001b[49m\u001b[43m(\u001b[49m\u001b[43msqlalchemy_url\u001b[49m\u001b[43m)\u001b[49m\n\u001b[1;32m     19\u001b[0m llm \u001b[38;5;241m=\u001b[39m ChatOpenAI(\n\u001b[1;32m     20\u001b[0m     model\u001b[38;5;241m=\u001b[39m\u001b[38;5;124m\"\u001b[39m\u001b[38;5;124mgpt-3.5-turbo\u001b[39m\u001b[38;5;124m\"\u001b[39m ,\n\u001b[1;32m     21\u001b[0m     api_key\u001b[38;5;241m=\u001b[39mopenai_api_key\n\u001b[1;32m     22\u001b[0m )\n\u001b[1;32m     24\u001b[0m \u001b[38;5;28;01mreturn\u001b[39;00m create_sql_query_chain(\n\u001b[1;32m     25\u001b[0m     llm , db , database_prompt\n\u001b[1;32m     26\u001b[0m )\n",
      "File \u001b[0;32m~/miniconda3/envs/langchain/lib/python3.11/site-packages/langchain_community/utilities/sql_database.py:70\u001b[0m, in \u001b[0;36mSQLDatabase.__init__\u001b[0;34m(self, engine, schema, metadata, ignore_tables, include_tables, sample_rows_in_table_info, indexes_in_table_info, custom_table_info, view_support, max_string_length, lazy_table_reflection)\u001b[0m\n\u001b[1;32m     67\u001b[0m \u001b[38;5;28;01mif\u001b[39;00m include_tables \u001b[38;5;129;01mand\u001b[39;00m ignore_tables:\n\u001b[1;32m     68\u001b[0m     \u001b[38;5;28;01mraise\u001b[39;00m \u001b[38;5;167;01mValueError\u001b[39;00m(\u001b[38;5;124m\"\u001b[39m\u001b[38;5;124mCannot specify both include_tables and ignore_tables\u001b[39m\u001b[38;5;124m\"\u001b[39m)\n\u001b[0;32m---> 70\u001b[0m \u001b[38;5;28mself\u001b[39m\u001b[38;5;241m.\u001b[39m_inspector \u001b[38;5;241m=\u001b[39m \u001b[43minspect\u001b[49m\u001b[43m(\u001b[49m\u001b[38;5;28;43mself\u001b[39;49m\u001b[38;5;241;43m.\u001b[39;49m\u001b[43m_engine\u001b[49m\u001b[43m)\u001b[49m\n\u001b[1;32m     72\u001b[0m \u001b[38;5;66;03m# including view support by adding the views as well as tables to the all\u001b[39;00m\n\u001b[1;32m     73\u001b[0m \u001b[38;5;66;03m# tables list if view_support is True\u001b[39;00m\n\u001b[1;32m     74\u001b[0m \u001b[38;5;28mself\u001b[39m\u001b[38;5;241m.\u001b[39m_all_tables \u001b[38;5;241m=\u001b[39m \u001b[38;5;28mset\u001b[39m(\n\u001b[1;32m     75\u001b[0m     \u001b[38;5;28mself\u001b[39m\u001b[38;5;241m.\u001b[39m_inspector\u001b[38;5;241m.\u001b[39mget_table_names(schema\u001b[38;5;241m=\u001b[39mschema)\n\u001b[1;32m     76\u001b[0m     \u001b[38;5;241m+\u001b[39m (\u001b[38;5;28mself\u001b[39m\u001b[38;5;241m.\u001b[39m_inspector\u001b[38;5;241m.\u001b[39mget_view_names(schema\u001b[38;5;241m=\u001b[39mschema) \u001b[38;5;28;01mif\u001b[39;00m view_support \u001b[38;5;28;01melse\u001b[39;00m [])\n\u001b[1;32m     77\u001b[0m )\n",
      "File \u001b[0;32m~/miniconda3/envs/langchain/lib/python3.11/site-packages/sqlalchemy/inspection.py:71\u001b[0m, in \u001b[0;36minspect\u001b[0;34m(subject, raiseerr)\u001b[0m\n\u001b[1;32m     68\u001b[0m     reg \u001b[38;5;241m=\u001b[39m ret \u001b[38;5;241m=\u001b[39m \u001b[38;5;28;01mNone\u001b[39;00m\n\u001b[1;32m     70\u001b[0m \u001b[38;5;28;01mif\u001b[39;00m raiseerr \u001b[38;5;129;01mand\u001b[39;00m (reg \u001b[38;5;129;01mis\u001b[39;00m \u001b[38;5;28;01mNone\u001b[39;00m \u001b[38;5;129;01mor\u001b[39;00m ret \u001b[38;5;129;01mis\u001b[39;00m \u001b[38;5;28;01mNone\u001b[39;00m):\n\u001b[0;32m---> 71\u001b[0m     \u001b[38;5;28;01mraise\u001b[39;00m exc\u001b[38;5;241m.\u001b[39mNoInspectionAvailable(\n\u001b[1;32m     72\u001b[0m         \u001b[38;5;124m\"\u001b[39m\u001b[38;5;124mNo inspection system is \u001b[39m\u001b[38;5;124m\"\u001b[39m\n\u001b[1;32m     73\u001b[0m         \u001b[38;5;124m\"\u001b[39m\u001b[38;5;124mavailable for object of type \u001b[39m\u001b[38;5;132;01m%s\u001b[39;00m\u001b[38;5;124m\"\u001b[39m \u001b[38;5;241m%\u001b[39m type_\n\u001b[1;32m     74\u001b[0m     )\n\u001b[1;32m     75\u001b[0m \u001b[38;5;28;01mreturn\u001b[39;00m ret\n",
      "\u001b[0;31mNoInspectionAvailable\u001b[0m: No inspection system is available for object of type <class 'str'>"
     ]
    }
   ],
   "source": [
    "chain = create_telco_sql_query_chain()"
   ]
  },
  {
   "cell_type": "code",
   "execution_count": null,
   "metadata": {},
   "outputs": [],
   "source": []
  }
 ],
 "metadata": {
  "kernelspec": {
   "display_name": "langchain",
   "language": "python",
   "name": "python3"
  },
  "language_info": {
   "codemirror_mode": {
    "name": "ipython",
    "version": 3
   },
   "file_extension": ".py",
   "mimetype": "text/x-python",
   "name": "python",
   "nbconvert_exporter": "python",
   "pygments_lexer": "ipython3",
   "version": "3.11.9"
  }
 },
 "nbformat": 4,
 "nbformat_minor": 2
}
